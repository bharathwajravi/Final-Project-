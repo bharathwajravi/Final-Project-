{
  "nbformat": 4,
  "nbformat_minor": 0,
  "metadata": {
    "colab": {
      "provenance": []
    },
    "kernelspec": {
      "name": "python3",
      "display_name": "Python 3"
    },
    "language_info": {
      "name": "python"
    }
  },
  "cells": [
    {
      "cell_type": "code",
      "source": [
        "import torch\n",
        "import torch.nn as nn\n",
        "import torch.optim as optim\n",
        "import numpy as np\n",
        "import matplotlib.pyplot as plt\n",
        "\n",
        "# Define device\n",
        "device = torch.device(\"cuda\" if torch.cuda.is_available() else \"cpu\")\n",
        "\n",
        "# Generate synthetic dataset\n",
        "def generate_data(n_samples, seq_length, vocab_size):\n",
        "    source_sequences = np.random.randint(1, vocab_size, (n_samples, seq_length))\n",
        "    # Create a copy of the source_sequences before flipping to avoid negative strides\n",
        "    target_sequences = np.flip(source_sequences.copy(), axis=1)\n",
        "    return source_sequences, target_sequences\n",
        "\n",
        "n_samples = 10000\n",
        "seq_length = 10\n",
        "vocab_size = 50\n",
        "source_sequences, target_sequences = generate_data(n_samples, seq_length, vocab_size)\n",
        "\n",
        "# Define Dataset and DataLoader\n",
        "class Seq2SeqDataset(torch.utils.data.Dataset):\n",
        "    def __init__(self, source_sequences, target_sequences):\n",
        "        self.source_sequences = source_sequences\n",
        "        self.target_sequences = target_sequences\n",
        "\n",
        "    def __len__(self):\n",
        "        return len(self.source_sequences)\n",
        "\n",
        "    def __getitem__(self, idx):\n",
        "        # Create a copy of the target sequence to avoid negative strides\n",
        "        return torch.tensor(self.source_sequences[idx], dtype=torch.long), torch.tensor(self.target_sequences[idx].copy(), dtype=torch.long)\n",
        "\n",
        "dataset = Seq2SeqDataset(source_sequences, target_sequences)\n",
        "dataloader = torch.utils.data.DataLoader(dataset, batch_size=64, shuffle=True)\n",
        "\n",
        "# Define Encoder\n",
        "class Encoder(nn.Module):\n",
        "    def __init__(self, vocab_size, embedding_dim, hidden_dim):\n",
        "        super(Encoder, self).__init__()\n",
        "        self.embedding = nn.Embedding(vocab_size, embedding_dim)\n",
        "        self.rnn = nn.GRU(embedding_dim, hidden_dim, batch_first=True)\n",
        "\n",
        "    def forward(self, x):\n",
        "        embedded = self.embedding(x)\n",
        "        outputs, hidden = self.rnn(embedded)\n",
        "        return outputs, hidden\n",
        "\n",
        "# Define Attention\n",
        "class Attention(nn.Module):\n",
        "    def __init__(self, hidden_dim):\n",
        "        super(Attention, self).__init__()\n",
        "        self.attn = nn.Linear(hidden_dim * 2, hidden_dim)\n",
        "        self.v = nn.Parameter(torch.rand(hidden_dim))\n",
        "\n",
        "    def forward(self, hidden, encoder_outputs):\n",
        "        timestep = encoder_outputs.shape[1]\n",
        "        h = hidden.repeat(timestep, 1, 1).transpose(0, 1)\n",
        "        attn_energies = self.score(h, encoder_outputs)\n",
        "        return torch.softmax(attn_energies, dim=1)\n",
        "\n",
        "    def score(self, hidden, encoder_outputs):\n",
        "        energy = torch.tanh(self.attn(torch.cat([hidden, encoder_outputs], dim=2)))\n",
        "        energy = energy.transpose(2, 1)\n",
        "        v = self.v.repeat(encoder_outputs.size(0), 1).unsqueeze(1)\n",
        "        energy = torch.bmm(v, energy)\n",
        "        return energy.squeeze(1)\n",
        "\n",
        "# Define Decoder with Attention\n",
        "class Decoder(nn.Module):\n",
        "    def __init__(self, vocab_size, embedding_dim, hidden_dim):\n",
        "        super(Decoder, self).__init__()\n",
        "        self.embedding = nn.Embedding(vocab_size, embedding_dim)\n",
        "        self.rnn = nn.GRU(embedding_dim, hidden_dim, batch_first=True) # Define the RNN layer\n",
        "        self.fc = nn.Linear(hidden_dim, vocab_size) # Define the fully connected layer\n",
        "\n",
        "    def forward(self, x, hidden, encoder_outputs): # Define the forward method\n",
        "        embedded = self.embedding(x.unsqueeze(1))\n",
        "        output, hidden = self.rnn(embedded, hidden)\n",
        "        prediction = self.fc(output.squeeze(1))\n",
        "        return prediction, hidden\n",
        "\n",
        "# Define Seq2Seq model\n",
        "class Seq2Seq(nn.Module):\n",
        "    def __init__(self, encoder, decoder):\n",
        "        super(Seq2Seq, self).__init__()\n",
        "        self.encoder = encoder\n",
        "        self.decoder = decoder\n",
        "\n",
        "    def forward(self, source, target, teacher_forcing_ratio=0.5):\n",
        "        batch_size = source.shape[0]\n",
        "        target_len = target.shape[1]\n",
        "        vocab_size = self.decoder.fc.out_features # Access the output features of the fully connected layer\n",
        "\n",
        "        outputs = torch.zeros(batch_size, target_len, vocab_size).to(device)\n",
        "        encoder_outputs, hidden = self.encoder(source)\n",
        "\n",
        "        input = target[:, 0]\n",
        "        for t in range(1, target_len):\n",
        "            output, hidden = self.decoder(input, hidden, encoder_outputs) # Call the decoder's forward method\n",
        "            outputs[:, t] = output\n",
        "            teacher_force = np.random.random() < teacher_forcing_ratio\n",
        "            top1 = output.argmax(1)\n",
        "            input = target[:, t] if teacher_force else top1\n",
        "\n",
        "        return outputs\n",
        "\n",
        "# Initialize the model, loss function, and optimizer\n",
        "embedding_dim = 256\n",
        "hidden_dim = 512\n",
        "\n",
        "encoder = Encoder(vocab_size, embedding_dim, hidden_dim).to(device)\n",
        "decoder = Decoder(vocab_size, embedding_dim, hidden_dim).to(device)\n",
        "model = Seq2Seq(encoder, decoder).to(device)\n",
        "\n",
        "optimizer = optim.Adam(model.parameters(), lr=0.001)\n",
        "criterion = nn.CrossEntropyLoss(ignore_index=0)\n",
        "\n",
        "# Training the model\n",
        "n_epochs = 20\n",
        "train_losses = []\n",
        "\n",
        "for epoch in range(n_epochs):\n",
        "    model.train()\n",
        "    epoch_loss = 0\n",
        "\n",
        "    for source, target in dataloader:\n",
        "        source, target = source.to(device), target.to(device)\n",
        "\n",
        "        optimizer.zero_grad()\n",
        "        output = model(source, target)\n",
        "        output_dim = output.shape[-1]\n",
        "        output = output[:, 1:].reshape(-1, output_dim)\n",
        "        target = target[:, 1:].reshape(-1)\n",
        "\n",
        "        loss = criterion(output, target)\n",
        "        loss.backward()\n",
        "        optimizer.step()\n",
        "\n",
        "        epoch_loss += loss.item()\n",
        "\n",
        "    train_losses.append(epoch_loss / len(dataloader))\n",
        "    print(f'Epoch {epoch+1}/{n_epochs}, Loss: {epoch_loss / len(dataloader):.4f}')\n",
        "\n",
        "# Plot the loss curves\n",
        "plt.figure(figsize=(10, 5))\n",
        "plt.plot(train_losses, label='Training Loss')\n",
        "plt.xlabel('Epochs')\n",
        "plt.ylabel('Loss')\n",
        "plt.title('Loss Curve')\n",
        "plt.legend()\n",
        "plt.show()\n",
        "\n",
        "# Evaluate the model performance\n",
        "def evaluate(model, dataloader):\n",
        "    model.eval()\n",
        "    epoch_loss = 0\n",
        "\n",
        "    with torch.no_grad():\n",
        "        for source, target in dataloader:\n",
        "            source, target = source.to(device), target.to(device)\n",
        "            output = model(source, target, teacher_forcing_ratio=0)\n",
        "            output_dim = output.shape[-1]\n",
        "            output = output[:, 1:].reshape(-1, output_dim)\n",
        "            target = target[:, 1:].reshape(-1)\n",
        "            loss = criterion(output, target)\n",
        "            epoch_loss += loss.item()\n",
        "\n",
        "    return epoch_loss / len(dataloader)\n",
        "\n",
        "eval_loss = evaluate(model, dataloader)\n",
        "print(f'Evaluation Loss: {eval_loss:.4f}')\n"
      ],
      "metadata": {
        "colab": {
          "base_uri": "https://localhost:8080/",
          "height": 852
        },
        "id": "7LYBiL-uMs4f",
        "outputId": "785bcc63-08b9-4f61-a322-283f6e21fe18"
      },
      "execution_count": null,
      "outputs": [
        {
          "output_type": "stream",
          "name": "stdout",
          "text": [
            "Epoch 1/20, Loss: 2.6223\n",
            "Epoch 2/20, Loss: 1.5462\n",
            "Epoch 3/20, Loss: 1.1163\n",
            "Epoch 4/20, Loss: 0.8524\n",
            "Epoch 5/20, Loss: 0.6492\n",
            "Epoch 6/20, Loss: 0.4859\n",
            "Epoch 7/20, Loss: 0.3183\n",
            "Epoch 8/20, Loss: 0.2262\n",
            "Epoch 9/20, Loss: 0.1595\n",
            "Epoch 10/20, Loss: 0.1142\n",
            "Epoch 11/20, Loss: 0.1060\n",
            "Epoch 12/20, Loss: 0.1074\n",
            "Epoch 13/20, Loss: 0.1095\n",
            "Epoch 14/20, Loss: 0.1334\n",
            "Epoch 15/20, Loss: 0.1229\n",
            "Epoch 16/20, Loss: 0.1081\n",
            "Epoch 17/20, Loss: 0.0918\n",
            "Epoch 18/20, Loss: 0.0661\n",
            "Epoch 19/20, Loss: 0.0517\n",
            "Epoch 20/20, Loss: 0.0398\n"
          ]
        },
        {
          "output_type": "display_data",
          "data": {
            "text/plain": [
              "<Figure size 1000x500 with 1 Axes>"
            ],
            "image/png": "[encoded data removed]"
          },
          "metadata": {}
        },
        {
          "output_type": "stream",
          "name": "stdout",
          "text": [
            "Evaluation Loss: 0.0365\n"
          ]
        }
      ]
    },
    {
      "cell_type": "code",
      "source": [
        "# Function to calculate accuracy\n",
        "def calculate_accuracy(predictions, targets):\n",
        "    \"\"\"\n",
        "    Calculate the accuracy of the model predictions.\n",
        "    :param predictions: The predicted sequences.\n",
        "    :param targets: The target sequences.\n",
        "    :return: Accuracy as a percentage.\n",
        "    \"\"\"\n",
        "    # Remove the <sos> token from the targets and predictions\n",
        "    targets = targets[:, 1:]\n",
        "    predictions = predictions[:, 1:]\n",
        "\n",
        "    # Get the predicted token indices\n",
        "    top_predictions = predictions.argmax(2)\n",
        "\n",
        "    # Compare predictions with targets\n",
        "    correct = (top_predictions == targets).float()\n",
        "\n",
        "    # Calculate accuracy\n",
        "    accuracy = correct.sum() / torch.numel(correct)\n",
        "    return accuracy * 100\n",
        "\n",
        "# Evaluate the model accuracy\n",
        "def evaluate_accuracy(model, dataloader):\n",
        "    model.eval()\n",
        "    total_accuracy = 0\n",
        "\n",
        "    with torch.no_grad():\n",
        "        for source, target in dataloader:\n",
        "            source, target = source.to(device), target.to(device)\n",
        "            output = model(source, target, teacher_forcing_ratio=0)\n",
        "            total_accuracy += calculate_accuracy(output, target).item()\n",
        "\n",
        "    return total_accuracy / len(dataloader)\n",
        "\n",
        "accuracy = evaluate_accuracy(model, dataloader)\n",
        "print(f'Model Accuracy: {accuracy:.2f}%')\n"
      ],
      "metadata": {
        "colab": {
          "base_uri": "https://localhost:8080/"
        },
        "id": "K6DzlwfpayeD",
        "outputId": "852928c8-6580-49a3-92a1-de57bb202594"
      },
      "execution_count": null,
      "outputs": [
        {
          "output_type": "stream",
          "name": "stdout",
          "text": [
            "Model Accuracy: 99.52%\n"
          ]
        }
      ]
    },
    {
      "cell_type": "code",
      "source": [
        "import joblib\n",
        "from google.colab import files\n",
        "\n",
        "# Define the path to save the model\n",
        "model_path = \"Seq2Seq_model.pkl\"\n",
        "\n",
        "# Save the model\n",
        "joblib.dump(model, model_path)\n",
        "print(f\"Model saved to {model_path}\")\n",
        "\n",
        "# Download the file\n",
        "files.download(model_path)\n"
      ],
      "metadata": {
        "id": "UGttFH55otY9",
        "outputId": "2cba3524-3fe3-41c7-d50d-9a6484c79c87",
        "colab": {
          "base_uri": "https://localhost:8080/",
          "height": 52
        }
      },
      "execution_count": null,
      "outputs": [
        {
          "output_type": "stream",
          "name": "stdout",
          "text": [
            "Model saved to Seq2Seq_model.pkl\n"
          ]
        },
        {
          "output_type": "display_data",
          "data": {
            "text/plain": [
              "<IPython.core.display.Javascript object>"
            ],
            "application/javascript": [
              "\n",
              "    async function download(id, filename, size) {\n",
              "      if (!google.colab.kernel.accessAllowed) {\n",
              "        return;\n",
              "      }\n",
              "      const div = document.createElement('div');\n",
              "      const label = document.createElement('label');\n",
              "      label.textContent = `Downloading \"${filename}\": `;\n",
              "      div.appendChild(label);\n",
              "      const progress = document.createElement('progress');\n",
              "      progress.max = size;\n",
              "      div.appendChild(progress);\n",
              "      document.body.appendChild(div);\n",
              "\n",
              "      const buffers = [];\n",
              "      let downloaded = 0;\n",
              "\n",
              "      const channel = await google.colab.kernel.comms.open(id);\n",
              "      // Send a message to notify the kernel that we're ready.\n",
              "      channel.send({})\n",
              "\n",
              "      for await (const message of channel.messages) {\n",
              "        // Send a message to notify the kernel that we're ready.\n",
              "        channel.send({})\n",
              "        if (message.buffers) {\n",
              "          for (const buffer of message.buffers) {\n",
              "            buffers.push(buffer);\n",
              "            downloaded += buffer.byteLength;\n",
              "            progress.value = downloaded;\n",
              "          }\n",
              "        }\n",
              "      }\n",
              "      const blob = new Blob(buffers, {type: 'application/binary'});\n",
              "      const a = document.createElement('a');\n",
              "      a.href = window.URL.createObjectURL(blob);\n",
              "      a.download = filename;\n",
              "      div.appendChild(a);\n",
              "      a.click();\n",
              "      div.remove();\n",
              "    }\n",
              "  "
            ]
          },
          "metadata": {}
        },
        {
          "output_type": "display_data",
          "data": {
            "text/plain": [
              "<IPython.core.display.Javascript object>"
            ],
            "application/javascript": [
              "download(\"download_c6ebaa71-5555-410b-a35a-62235ea2dbb0\", \"Seq2Seq_model.pkl\", 9672794)"
            ]
          },
          "metadata": {}
        }
      ]
    }
  ]
}